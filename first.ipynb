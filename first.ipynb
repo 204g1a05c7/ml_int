{
 "cells": [
  {
   "cell_type": "code",
   "execution_count": 10,
   "id": "c1d0369c-418d-4ae3-b1be-72b38d5f9b3b",
   "metadata": {},
   "outputs": [],
   "source": [
    "import pandas as pd"
   ]
  },
  {
   "cell_type": "code",
   "execution_count": 11,
   "id": "f4827d43-e0de-4c36-a473-bb266db34c49",
   "metadata": {},
   "outputs": [],
   "source": [
    "df = pd.read_json('ds.json')"
   ]
  },
  {
   "cell_type": "code",
   "execution_count": 12,
   "id": "b62228b1-9968-40da-b5cc-15b8cf63ca4c",
   "metadata": {},
   "outputs": [
    {
     "data": {
      "text/html": [
       "<div>\n",
       "<style scoped>\n",
       "    .dataframe tbody tr th:only-of-type {\n",
       "        vertical-align: middle;\n",
       "    }\n",
       "\n",
       "    .dataframe tbody tr th {\n",
       "        vertical-align: top;\n",
       "    }\n",
       "\n",
       "    .dataframe thead th {\n",
       "        text-align: right;\n",
       "    }\n",
       "</style>\n",
       "<table border=\"1\" class=\"dataframe\">\n",
       "  <thead>\n",
       "    <tr style=\"text-align: right;\">\n",
       "      <th></th>\n",
       "      <th>externalStatus</th>\n",
       "      <th>internalStatus</th>\n",
       "    </tr>\n",
       "  </thead>\n",
       "  <tbody>\n",
       "    <tr>\n",
       "      <th>count</th>\n",
       "      <td>1222</td>\n",
       "      <td>1222</td>\n",
       "    </tr>\n",
       "    <tr>\n",
       "      <th>unique</th>\n",
       "      <td>108</td>\n",
       "      <td>15</td>\n",
       "    </tr>\n",
       "    <tr>\n",
       "      <th>top</th>\n",
       "      <td>Gate out</td>\n",
       "      <td>Loaded on Vessel</td>\n",
       "    </tr>\n",
       "    <tr>\n",
       "      <th>freq</th>\n",
       "      <td>144</td>\n",
       "      <td>331</td>\n",
       "    </tr>\n",
       "  </tbody>\n",
       "</table>\n",
       "</div>"
      ],
      "text/plain": [
       "       externalStatus    internalStatus\n",
       "count            1222              1222\n",
       "unique            108                15\n",
       "top          Gate out  Loaded on Vessel\n",
       "freq              144               331"
      ]
     },
     "execution_count": 12,
     "metadata": {},
     "output_type": "execute_result"
    }
   ],
   "source": [
    "df.describe()"
   ]
  },
  {
   "cell_type": "code",
   "execution_count": 13,
   "id": "f62c623d-d908-4f35-9d6f-cd2a6af677e8",
   "metadata": {},
   "outputs": [
    {
     "data": {
      "text/plain": [
       "externalStatus    0\n",
       "internalStatus    0\n",
       "dtype: int64"
      ]
     },
     "execution_count": 13,
     "metadata": {},
     "output_type": "execute_result"
    }
   ],
   "source": [
    "df.isnull().sum()"
   ]
  },
  {
   "cell_type": "code",
   "execution_count": 14,
   "id": "f7897eed-c760-4108-adc6-7ad59397435b",
   "metadata": {},
   "outputs": [
    {
     "name": "stdout",
     "output_type": "stream",
     "text": [
      "<class 'pandas.core.frame.DataFrame'>\n",
      "RangeIndex: 1222 entries, 0 to 1221\n",
      "Data columns (total 2 columns):\n",
      " #   Column          Non-Null Count  Dtype \n",
      "---  ------          --------------  ----- \n",
      " 0   externalStatus  1222 non-null   object\n",
      " 1   internalStatus  1222 non-null   object\n",
      "dtypes: object(2)\n",
      "memory usage: 19.2+ KB\n"
     ]
    }
   ],
   "source": [
    "df.info()"
   ]
  },
  {
   "cell_type": "code",
   "execution_count": 15,
   "id": "84dc140f-7daf-4441-bbd2-48985a34209d",
   "metadata": {},
   "outputs": [],
   "source": [
    "# Remove duplicate rows\n",
    "df.drop_duplicates(inplace=True)\n"
   ]
  },
  {
   "cell_type": "code",
   "execution_count": 16,
   "id": "db3d0b72-7206-4451-a294-d9b7a7582f97",
   "metadata": {},
   "outputs": [
    {
     "data": {
      "text/html": [
       "<div>\n",
       "<style scoped>\n",
       "    .dataframe tbody tr th:only-of-type {\n",
       "        vertical-align: middle;\n",
       "    }\n",
       "\n",
       "    .dataframe tbody tr th {\n",
       "        vertical-align: top;\n",
       "    }\n",
       "\n",
       "    .dataframe thead th {\n",
       "        text-align: right;\n",
       "    }\n",
       "</style>\n",
       "<table border=\"1\" class=\"dataframe\">\n",
       "  <thead>\n",
       "    <tr style=\"text-align: right;\">\n",
       "      <th></th>\n",
       "      <th>externalStatus</th>\n",
       "      <th>internalStatus</th>\n",
       "    </tr>\n",
       "  </thead>\n",
       "  <tbody>\n",
       "    <tr>\n",
       "      <th>count</th>\n",
       "      <td>108</td>\n",
       "      <td>108</td>\n",
       "    </tr>\n",
       "    <tr>\n",
       "      <th>unique</th>\n",
       "      <td>108</td>\n",
       "      <td>15</td>\n",
       "    </tr>\n",
       "    <tr>\n",
       "      <th>top</th>\n",
       "      <td>PORT OUT</td>\n",
       "      <td>Loaded on Vessel</td>\n",
       "    </tr>\n",
       "    <tr>\n",
       "      <th>freq</th>\n",
       "      <td>1</td>\n",
       "      <td>49</td>\n",
       "    </tr>\n",
       "  </tbody>\n",
       "</table>\n",
       "</div>"
      ],
      "text/plain": [
       "       externalStatus    internalStatus\n",
       "count             108               108\n",
       "unique            108                15\n",
       "top          PORT OUT  Loaded on Vessel\n",
       "freq                1                49"
      ]
     },
     "execution_count": 16,
     "metadata": {},
     "output_type": "execute_result"
    }
   ],
   "source": [
    "df.describe()"
   ]
  },
  {
   "cell_type": "code",
   "execution_count": 17,
   "id": "c37a504f-3c35-4392-96a0-19e2fe6e1345",
   "metadata": {},
   "outputs": [],
   "source": [
    "df['externalStatus'] = df['externalStatus'].str.strip()"
   ]
  },
  {
   "cell_type": "code",
   "execution_count": 18,
   "id": "f0e69edf-5641-41d6-aed2-baa78d77048b",
   "metadata": {},
   "outputs": [],
   "source": [
    "# Standardize\n",
    "df['externalStatus'] = df['externalStatus'].str.lower()\n",
    "df['internalStatus'] = df['internalStatus'].str.lower()\n",
    "df['internalStatus'] = df['internalStatus'].str.strip()\n",
    "\n",
    "# Convert categorical columns to categorical data type\n",
    "df['externalStatus'] = df['externalStatus'].astype('category')\n",
    "df['internalStatus'] = df['internalStatus'].astype('category')\n"
   ]
  },
  {
   "cell_type": "code",
   "execution_count": 19,
   "id": "887ea6fd-d20f-4667-a5ba-e66c163db09f",
   "metadata": {},
   "outputs": [
    {
     "data": {
      "text/html": [
       "<div>\n",
       "<style scoped>\n",
       "    .dataframe tbody tr th:only-of-type {\n",
       "        vertical-align: middle;\n",
       "    }\n",
       "\n",
       "    .dataframe tbody tr th {\n",
       "        vertical-align: top;\n",
       "    }\n",
       "\n",
       "    .dataframe thead th {\n",
       "        text-align: right;\n",
       "    }\n",
       "</style>\n",
       "<table border=\"1\" class=\"dataframe\">\n",
       "  <thead>\n",
       "    <tr style=\"text-align: right;\">\n",
       "      <th></th>\n",
       "      <th>externalStatus</th>\n",
       "      <th>internalStatus</th>\n",
       "    </tr>\n",
       "  </thead>\n",
       "  <tbody>\n",
       "    <tr>\n",
       "      <th>0</th>\n",
       "      <td>port out</td>\n",
       "      <td>port out</td>\n",
       "    </tr>\n",
       "    <tr>\n",
       "      <th>1</th>\n",
       "      <td>terminal in</td>\n",
       "      <td>inbound terminal</td>\n",
       "    </tr>\n",
       "    <tr>\n",
       "      <th>2</th>\n",
       "      <td>port in</td>\n",
       "      <td>port in</td>\n",
       "    </tr>\n",
       "    <tr>\n",
       "      <th>3</th>\n",
       "      <td>vessel departure from first pol (vessel name :...</td>\n",
       "      <td>departure</td>\n",
       "    </tr>\n",
       "    <tr>\n",
       "      <th>4</th>\n",
       "      <td>vessel arrival at final pod (vessel name : tia...</td>\n",
       "      <td>arrival</td>\n",
       "    </tr>\n",
       "  </tbody>\n",
       "</table>\n",
       "</div>"
      ],
      "text/plain": [
       "                                      externalStatus    internalStatus\n",
       "0                                           port out          port out\n",
       "1                                        terminal in  inbound terminal\n",
       "2                                            port in           port in\n",
       "3  vessel departure from first pol (vessel name :...         departure\n",
       "4  vessel arrival at final pod (vessel name : tia...           arrival"
      ]
     },
     "execution_count": 19,
     "metadata": {},
     "output_type": "execute_result"
    }
   ],
   "source": [
    "df.head()"
   ]
  },
  {
   "cell_type": "code",
   "execution_count": 20,
   "id": "996a30cc-e999-4ff1-a8f6-ef91239ef6ba",
   "metadata": {},
   "outputs": [
    {
     "data": {
      "text/html": [
       "<div>\n",
       "<style scoped>\n",
       "    .dataframe tbody tr th:only-of-type {\n",
       "        vertical-align: middle;\n",
       "    }\n",
       "\n",
       "    .dataframe tbody tr th {\n",
       "        vertical-align: top;\n",
       "    }\n",
       "\n",
       "    .dataframe thead th {\n",
       "        text-align: right;\n",
       "    }\n",
       "</style>\n",
       "<table border=\"1\" class=\"dataframe\">\n",
       "  <thead>\n",
       "    <tr style=\"text-align: right;\">\n",
       "      <th></th>\n",
       "      <th>externalStatus</th>\n",
       "      <th>internalStatus</th>\n",
       "    </tr>\n",
       "  </thead>\n",
       "  <tbody>\n",
       "    <tr>\n",
       "      <th>count</th>\n",
       "      <td>108</td>\n",
       "      <td>108</td>\n",
       "    </tr>\n",
       "    <tr>\n",
       "      <th>unique</th>\n",
       "      <td>105</td>\n",
       "      <td>15</td>\n",
       "    </tr>\n",
       "    <tr>\n",
       "      <th>top</th>\n",
       "      <td>loaded on board</td>\n",
       "      <td>loaded on vessel</td>\n",
       "    </tr>\n",
       "    <tr>\n",
       "      <th>freq</th>\n",
       "      <td>2</td>\n",
       "      <td>49</td>\n",
       "    </tr>\n",
       "  </tbody>\n",
       "</table>\n",
       "</div>"
      ],
      "text/plain": [
       "         externalStatus    internalStatus\n",
       "count               108               108\n",
       "unique              105                15\n",
       "top     loaded on board  loaded on vessel\n",
       "freq                  2                49"
      ]
     },
     "execution_count": 20,
     "metadata": {},
     "output_type": "execute_result"
    }
   ],
   "source": [
    "df.describe()"
   ]
  },
  {
   "cell_type": "code",
   "execution_count": 21,
   "id": "f10592f9-7564-49e6-b1db-7c307cb7e2b9",
   "metadata": {},
   "outputs": [
    {
     "name": "stdout",
     "output_type": "stream",
     "text": [
      "<class 'pandas.core.frame.DataFrame'>\n",
      "Index: 108 entries, 0 to 1016\n",
      "Data columns (total 2 columns):\n",
      " #   Column          Non-Null Count  Dtype   \n",
      "---  ------          --------------  -----   \n",
      " 0   externalStatus  108 non-null    category\n",
      " 1   internalStatus  108 non-null    category\n",
      "dtypes: category(2)\n",
      "memory usage: 6.6 KB\n"
     ]
    }
   ],
   "source": [
    "df.info()"
   ]
  },
  {
   "cell_type": "code",
   "execution_count": 22,
   "id": "bdd972b9-3ef2-4de9-a04c-02e09701faad",
   "metadata": {},
   "outputs": [],
   "source": [
    "#csv convertion\n",
    "df.to_csv('cleaned_ds.csv', index=False)\n"
   ]
  },
  {
   "cell_type": "code",
   "execution_count": 23,
   "id": "76b4228e-4206-4de4-ab13-51b8d6b0933f",
   "metadata": {},
   "outputs": [
    {
     "data": {
      "text/html": [
       "<div>\n",
       "<style scoped>\n",
       "    .dataframe tbody tr th:only-of-type {\n",
       "        vertical-align: middle;\n",
       "    }\n",
       "\n",
       "    .dataframe tbody tr th {\n",
       "        vertical-align: top;\n",
       "    }\n",
       "\n",
       "    .dataframe thead th {\n",
       "        text-align: right;\n",
       "    }\n",
       "</style>\n",
       "<table border=\"1\" class=\"dataframe\">\n",
       "  <thead>\n",
       "    <tr style=\"text-align: right;\">\n",
       "      <th></th>\n",
       "      <th>externalStatus</th>\n",
       "      <th>internalStatus</th>\n",
       "    </tr>\n",
       "  </thead>\n",
       "  <tbody>\n",
       "    <tr>\n",
       "      <th>0</th>\n",
       "      <td>port out</td>\n",
       "      <td>port out</td>\n",
       "    </tr>\n",
       "    <tr>\n",
       "      <th>1</th>\n",
       "      <td>terminal in</td>\n",
       "      <td>inbound terminal</td>\n",
       "    </tr>\n",
       "    <tr>\n",
       "      <th>2</th>\n",
       "      <td>port in</td>\n",
       "      <td>port in</td>\n",
       "    </tr>\n",
       "    <tr>\n",
       "      <th>3</th>\n",
       "      <td>vessel departure from first pol (vessel name :...</td>\n",
       "      <td>departure</td>\n",
       "    </tr>\n",
       "    <tr>\n",
       "      <th>4</th>\n",
       "      <td>vessel arrival at final pod (vessel name : tia...</td>\n",
       "      <td>arrival</td>\n",
       "    </tr>\n",
       "  </tbody>\n",
       "</table>\n",
       "</div>"
      ],
      "text/plain": [
       "                                      externalStatus    internalStatus\n",
       "0                                           port out          port out\n",
       "1                                        terminal in  inbound terminal\n",
       "2                                            port in           port in\n",
       "3  vessel departure from first pol (vessel name :...         departure\n",
       "4  vessel arrival at final pod (vessel name : tia...           arrival"
      ]
     },
     "execution_count": 23,
     "metadata": {},
     "output_type": "execute_result"
    }
   ],
   "source": [
    "df.head()"
   ]
  },
  {
   "cell_type": "code",
   "execution_count": 24,
   "id": "5fde20d4-3f38-4558-91cf-6be0454f2f75",
   "metadata": {},
   "outputs": [
    {
     "name": "stdout",
     "output_type": "stream",
     "text": [
      "<class 'pandas.core.frame.DataFrame'>\n",
      "Index: 108 entries, 0 to 1016\n",
      "Data columns (total 2 columns):\n",
      " #   Column          Non-Null Count  Dtype   \n",
      "---  ------          --------------  -----   \n",
      " 0   externalStatus  108 non-null    category\n",
      " 1   internalStatus  108 non-null    category\n",
      "dtypes: category(2)\n",
      "memory usage: 6.6 KB\n"
     ]
    }
   ],
   "source": [
    "df.info()"
   ]
  },
  {
   "cell_type": "code",
   "execution_count": 25,
   "id": "5ff247ae-24ee-48de-8b31-a5170cef1e3c",
   "metadata": {},
   "outputs": [],
   "source": [
    "df=pd.read_csv('cleaned_ds.csv')"
   ]
  },
  {
   "cell_type": "code",
   "execution_count": 26,
   "id": "1470f3c1-0fb3-4dfa-85d9-7148c710955c",
   "metadata": {},
   "outputs": [
    {
     "name": "stdout",
     "output_type": "stream",
     "text": [
      "<class 'pandas.core.frame.DataFrame'>\n",
      "RangeIndex: 108 entries, 0 to 107\n",
      "Data columns (total 2 columns):\n",
      " #   Column          Non-Null Count  Dtype \n",
      "---  ------          --------------  ----- \n",
      " 0   externalStatus  108 non-null    object\n",
      " 1   internalStatus  108 non-null    object\n",
      "dtypes: object(2)\n",
      "memory usage: 1.8+ KB\n"
     ]
    }
   ],
   "source": [
    "df.info()"
   ]
  },
  {
   "cell_type": "code",
   "execution_count": 27,
   "id": "b6151c5a-a779-466f-816c-c98abd70f7e6",
   "metadata": {},
   "outputs": [],
   "source": [
    "\n",
    "from sklearn.preprocessing import LabelEncoder\n",
    "ext_enc = LabelEncoder()\n",
    "int_enc = LabelEncoder()\n",
    "\n",
    "df['ext_encoded'] = ext_enc.fit_transform(df['externalStatus'])\n",
    "df['int_encoded'] = int_enc.fit_transform(df['internalStatus'])\n",
    "\n",
    "df.to_csv('cleaned_ds.csv', index=False)"
   ]
  },
  {
   "cell_type": "code",
   "execution_count": 28,
   "id": "5c19b805-1f49-4278-916a-212bcb0fdec9",
   "metadata": {},
   "outputs": [
    {
     "data": {
      "text/html": [
       "<div>\n",
       "<style scoped>\n",
       "    .dataframe tbody tr th:only-of-type {\n",
       "        vertical-align: middle;\n",
       "    }\n",
       "\n",
       "    .dataframe tbody tr th {\n",
       "        vertical-align: top;\n",
       "    }\n",
       "\n",
       "    .dataframe thead th {\n",
       "        text-align: right;\n",
       "    }\n",
       "</style>\n",
       "<table border=\"1\" class=\"dataframe\">\n",
       "  <thead>\n",
       "    <tr style=\"text-align: right;\">\n",
       "      <th></th>\n",
       "      <th>externalStatus</th>\n",
       "      <th>internalStatus</th>\n",
       "      <th>ext_encoded</th>\n",
       "      <th>int_encoded</th>\n",
       "    </tr>\n",
       "  </thead>\n",
       "  <tbody>\n",
       "    <tr>\n",
       "      <th>0</th>\n",
       "      <td>port out</td>\n",
       "      <td>port out</td>\n",
       "      <td>89</td>\n",
       "      <td>13</td>\n",
       "    </tr>\n",
       "    <tr>\n",
       "      <th>1</th>\n",
       "      <td>terminal in</td>\n",
       "      <td>inbound terminal</td>\n",
       "      <td>91</td>\n",
       "      <td>7</td>\n",
       "    </tr>\n",
       "    <tr>\n",
       "      <th>2</th>\n",
       "      <td>port in</td>\n",
       "      <td>port in</td>\n",
       "      <td>88</td>\n",
       "      <td>12</td>\n",
       "    </tr>\n",
       "    <tr>\n",
       "      <th>3</th>\n",
       "      <td>vessel departure from first pol (vessel name :...</td>\n",
       "      <td>departure</td>\n",
       "      <td>104</td>\n",
       "      <td>1</td>\n",
       "    </tr>\n",
       "    <tr>\n",
       "      <th>4</th>\n",
       "      <td>vessel arrival at final pod (vessel name : tia...</td>\n",
       "      <td>arrival</td>\n",
       "      <td>101</td>\n",
       "      <td>0</td>\n",
       "    </tr>\n",
       "    <tr>\n",
       "      <th>...</th>\n",
       "      <td>...</td>\n",
       "      <td>...</td>\n",
       "      <td>...</td>\n",
       "      <td>...</td>\n",
       "    </tr>\n",
       "    <tr>\n",
       "      <th>103</th>\n",
       "      <td>'marina one 001s' arrival at port of dischargi...</td>\n",
       "      <td>arrival</td>\n",
       "      <td>0</td>\n",
       "      <td>0</td>\n",
       "    </tr>\n",
       "    <tr>\n",
       "      <th>104</th>\n",
       "      <td>unloaded from 'marina one 001s' at port of dis...</td>\n",
       "      <td>unloaded on vessel</td>\n",
       "      <td>95</td>\n",
       "      <td>14</td>\n",
       "    </tr>\n",
       "    <tr>\n",
       "      <th>105</th>\n",
       "      <td>load on mogens maersk / 246w</td>\n",
       "      <td>loaded on vessel</td>\n",
       "      <td>59</td>\n",
       "      <td>8</td>\n",
       "    </tr>\n",
       "    <tr>\n",
       "      <th>106</th>\n",
       "      <td>load on msc alexandra / 248w</td>\n",
       "      <td>loaded on vessel</td>\n",
       "      <td>60</td>\n",
       "      <td>8</td>\n",
       "    </tr>\n",
       "    <tr>\n",
       "      <th>107</th>\n",
       "      <td>estimated time of arrival</td>\n",
       "      <td>arrival</td>\n",
       "      <td>20</td>\n",
       "      <td>0</td>\n",
       "    </tr>\n",
       "  </tbody>\n",
       "</table>\n",
       "<p>108 rows × 4 columns</p>\n",
       "</div>"
      ],
      "text/plain": [
       "                                        externalStatus      internalStatus  \\\n",
       "0                                             port out            port out   \n",
       "1                                          terminal in    inbound terminal   \n",
       "2                                              port in             port in   \n",
       "3    vessel departure from first pol (vessel name :...           departure   \n",
       "4    vessel arrival at final pod (vessel name : tia...             arrival   \n",
       "..                                                 ...                 ...   \n",
       "103  'marina one 001s' arrival at port of dischargi...             arrival   \n",
       "104  unloaded from 'marina one 001s' at port of dis...  unloaded on vessel   \n",
       "105                       load on mogens maersk / 246w    loaded on vessel   \n",
       "106                       load on msc alexandra / 248w    loaded on vessel   \n",
       "107                          estimated time of arrival             arrival   \n",
       "\n",
       "     ext_encoded  int_encoded  \n",
       "0             89           13  \n",
       "1             91            7  \n",
       "2             88           12  \n",
       "3            104            1  \n",
       "4            101            0  \n",
       "..           ...          ...  \n",
       "103            0            0  \n",
       "104           95           14  \n",
       "105           59            8  \n",
       "106           60            8  \n",
       "107           20            0  \n",
       "\n",
       "[108 rows x 4 columns]"
      ]
     },
     "execution_count": 28,
     "metadata": {},
     "output_type": "execute_result"
    }
   ],
   "source": [
    "df"
   ]
  },
  {
   "cell_type": "code",
   "execution_count": 29,
   "id": "3c8f9f0c-e79f-422f-9de6-71506fd5954b",
   "metadata": {},
   "outputs": [],
   "source": [
    "import tensorflow as tf"
   ]
  },
  {
   "cell_type": "code",
   "execution_count": 34,
   "id": "7f18bd5d-e8be-4f97-86ec-5809508905fd",
   "metadata": {},
   "outputs": [],
   "source": [
    "model = tf.keras.Sequential([\n",
    "    tf.keras.layers.Input(shape=(1,)),\n",
    "    tf.keras.layers.Dense(128, activation='relu'),\n",
    "    tf.keras.layers.Dropout(0.2),  \n",
    "    tf.keras.layers.Dense(64, activation='relu'),\n",
    "    tf.keras.layers.Dropout(0.2), \n",
    "    tf.keras.layers.Dense(32, activation='relu'),\n",
    "    tf.keras.layers.Dropout(0.2),\n",
    "    tf.keras.layers.Dense(len(df['internalStatus'].unique()), activation='softmax')\n",
    "])\n",
    "\n",
    "model.compile(optimizer='adam', loss='sparse_categorical_crossentropy', metrics=['accuracy'])\n"
   ]
  },
  {
   "cell_type": "code",
   "execution_count": 35,
   "id": "077b8b92-a6e8-44cd-87e1-987c62a1ac3d",
   "metadata": {},
   "outputs": [],
   "source": [
    "model.compile(optimizer='adam',\n",
    "              loss='sparse_categorical_crossentropy',\n",
    "              metrics=['accuracy'])"
   ]
  },
  {
   "cell_type": "code",
   "execution_count": 36,
   "id": "0ca23181-89d3-47d7-b392-810addb7f8e8",
   "metadata": {},
   "outputs": [],
   "source": [
    "from sklearn.model_selection import train_test_split"
   ]
  },
  {
   "cell_type": "code",
   "execution_count": 37,
   "id": "53694895-784c-4bd6-91d4-444898933903",
   "metadata": {},
   "outputs": [],
   "source": [
    "X = df['ext_encoded'].values.reshape(-1, 1)"
   ]
  },
  {
   "cell_type": "code",
   "execution_count": 38,
   "id": "63a3d860-0c44-4f1b-a154-84995b29cf45",
   "metadata": {},
   "outputs": [],
   "source": [
    "y = df['int_encoded'].values"
   ]
  },
  {
   "cell_type": "code",
   "execution_count": 39,
   "id": "ccecd3d9-02cf-459c-8294-de25fc0316dc",
   "metadata": {},
   "outputs": [],
   "source": [
    "X_train, X_test, y_train, y_test = train_test_split(X, y, test_size=0.2, random_state=42)"
   ]
  },
  {
   "cell_type": "code",
   "execution_count": 41,
   "id": "4666155f-5e61-4a5d-9647-07319c6e4f60",
   "metadata": {},
   "outputs": [
    {
     "name": "stdout",
     "output_type": "stream",
     "text": [
      "Epoch 1/20\n",
      "\u001b[1m2/2\u001b[0m \u001b[32m━━━━━━━━━━━━━━━━━━━━\u001b[0m\u001b[37m\u001b[0m \u001b[1m0s\u001b[0m 188ms/step - accuracy: 0.2950 - loss: 2.3871 - val_accuracy: 0.3333 - val_loss: 2.5684\n",
      "Epoch 2/20\n",
      "\u001b[1m2/2\u001b[0m \u001b[32m━━━━━━━━━━━━━━━━━━━━\u001b[0m\u001b[37m\u001b[0m \u001b[1m0s\u001b[0m 80ms/step - accuracy: 0.1749 - loss: 2.6791 - val_accuracy: 0.0556 - val_loss: 2.5847\n",
      "Epoch 3/20\n",
      "\u001b[1m2/2\u001b[0m \u001b[32m━━━━━━━━━━━━━━━━━━━━\u001b[0m\u001b[37m\u001b[0m \u001b[1m0s\u001b[0m 76ms/step - accuracy: 0.3701 - loss: 2.0725 - val_accuracy: 0.0556 - val_loss: 2.5901\n",
      "Epoch 4/20\n",
      "\u001b[1m2/2\u001b[0m \u001b[32m━━━━━━━━━━━━━━━━━━━━\u001b[0m\u001b[37m\u001b[0m \u001b[1m0s\u001b[0m 82ms/step - accuracy: 0.1697 - loss: 2.5991 - val_accuracy: 0.3333 - val_loss: 2.5720\n",
      "Epoch 5/20\n",
      "\u001b[1m2/2\u001b[0m \u001b[32m━━━━━━━━━━━━━━━━━━━━\u001b[0m\u001b[37m\u001b[0m \u001b[1m0s\u001b[0m 75ms/step - accuracy: 0.2800 - loss: 2.6725 - val_accuracy: 0.3333 - val_loss: 2.5632\n",
      "Epoch 6/20\n",
      "\u001b[1m2/2\u001b[0m \u001b[32m━━━━━━━━━━━━━━━━━━━━\u001b[0m\u001b[37m\u001b[0m \u001b[1m0s\u001b[0m 71ms/step - accuracy: 0.3297 - loss: 2.2860 - val_accuracy: 0.3333 - val_loss: 2.5679\n",
      "Epoch 7/20\n",
      "\u001b[1m2/2\u001b[0m \u001b[32m━━━━━━━━━━━━━━━━━━━━\u001b[0m\u001b[37m\u001b[0m \u001b[1m0s\u001b[0m 72ms/step - accuracy: 0.3701 - loss: 2.1695 - val_accuracy: 0.3333 - val_loss: 2.5685\n",
      "Epoch 8/20\n",
      "\u001b[1m2/2\u001b[0m \u001b[32m━━━━━━━━━━━━━━━━━━━━\u001b[0m\u001b[37m\u001b[0m \u001b[1m0s\u001b[0m 71ms/step - accuracy: 0.3949 - loss: 2.0396 - val_accuracy: 0.3333 - val_loss: 2.5598\n",
      "Epoch 9/20\n",
      "\u001b[1m2/2\u001b[0m \u001b[32m━━━━━━━━━━━━━━━━━━━━\u001b[0m\u001b[37m\u001b[0m \u001b[1m0s\u001b[0m 83ms/step - accuracy: 0.4099 - loss: 2.4449 - val_accuracy: 0.3333 - val_loss: 2.5207\n",
      "Epoch 10/20\n",
      "\u001b[1m2/2\u001b[0m \u001b[32m━━━━━━━━━━━━━━━━━━━━\u001b[0m\u001b[37m\u001b[0m \u001b[1m0s\u001b[0m 94ms/step - accuracy: 0.2748 - loss: 2.4364 - val_accuracy: 0.3333 - val_loss: 2.4734\n",
      "Epoch 11/20\n",
      "\u001b[1m2/2\u001b[0m \u001b[32m━━━━━━━━━━━━━━━━━━━━\u001b[0m\u001b[37m\u001b[0m \u001b[1m0s\u001b[0m 82ms/step - accuracy: 0.3949 - loss: 2.0876 - val_accuracy: 0.3333 - val_loss: 2.4544\n",
      "Epoch 12/20\n",
      "\u001b[1m2/2\u001b[0m \u001b[32m━━━━━━━━━━━━━━━━━━━━\u001b[0m\u001b[37m\u001b[0m \u001b[1m0s\u001b[0m 92ms/step - accuracy: 0.4249 - loss: 2.7125 - val_accuracy: 0.3333 - val_loss: 2.4459\n",
      "Epoch 13/20\n",
      "\u001b[1m2/2\u001b[0m \u001b[32m━━━━━━━━━━━━━━━━━━━━\u001b[0m\u001b[37m\u001b[0m \u001b[1m0s\u001b[0m 169ms/step - accuracy: 0.3649 - loss: 2.1326 - val_accuracy: 0.3333 - val_loss: 2.4497\n",
      "Epoch 14/20\n",
      "\u001b[1m2/2\u001b[0m \u001b[32m━━━━━━━━━━━━━━━━━━━━\u001b[0m\u001b[37m\u001b[0m \u001b[1m0s\u001b[0m 80ms/step - accuracy: 0.3551 - loss: 2.2271 - val_accuracy: 0.3333 - val_loss: 2.4514\n",
      "Epoch 15/20\n",
      "\u001b[1m2/2\u001b[0m \u001b[32m━━━━━━━━━━━━━━━━━━━━\u001b[0m\u001b[37m\u001b[0m \u001b[1m0s\u001b[0m 81ms/step - accuracy: 0.3297 - loss: 2.1428 - val_accuracy: 0.3333 - val_loss: 2.4505\n",
      "Epoch 16/20\n",
      "\u001b[1m2/2\u001b[0m \u001b[32m━━━━━━━━━━━━━━━━━━━━\u001b[0m\u001b[37m\u001b[0m \u001b[1m0s\u001b[0m 78ms/step - accuracy: 0.2748 - loss: 2.6108 - val_accuracy: 0.3333 - val_loss: 2.4407\n",
      "Epoch 17/20\n",
      "\u001b[1m2/2\u001b[0m \u001b[32m━━━━━━━━━━━━━━━━━━━━\u001b[0m\u001b[37m\u001b[0m \u001b[1m0s\u001b[0m 82ms/step - accuracy: 0.3851 - loss: 2.4245 - val_accuracy: 0.3333 - val_loss: 2.4315\n",
      "Epoch 18/20\n",
      "\u001b[1m2/2\u001b[0m \u001b[32m━━━━━━━━━━━━━━━━━━━━\u001b[0m\u001b[37m\u001b[0m \u001b[1m0s\u001b[0m 75ms/step - accuracy: 0.3649 - loss: 2.0675 - val_accuracy: 0.3333 - val_loss: 2.4207\n",
      "Epoch 19/20\n",
      "\u001b[1m2/2\u001b[0m \u001b[32m━━━━━━━━━━━━━━━━━━━━\u001b[0m\u001b[37m\u001b[0m \u001b[1m0s\u001b[0m 95ms/step - accuracy: 0.3949 - loss: 2.0245 - val_accuracy: 0.3333 - val_loss: 2.4075\n",
      "Epoch 20/20\n",
      "\u001b[1m2/2\u001b[0m \u001b[32m━━━━━━━━━━━━━━━━━━━━\u001b[0m\u001b[37m\u001b[0m \u001b[1m0s\u001b[0m 84ms/step - accuracy: 0.4145 - loss: 1.9224 - val_accuracy: 0.3333 - val_loss: 2.3928\n"
     ]
    }
   ],
   "source": [
    "history = model.fit(X_train, y_train, epochs=20, batch_size=64, validation_split=0.2)"
   ]
  },
  {
   "cell_type": "code",
   "execution_count": 42,
   "id": "3bb85792-ed69-4bc3-9e4b-b91a2df21f25",
   "metadata": {},
   "outputs": [],
   "source": [
    "from sklearn.metrics import accuracy_score, precision_score, recall_score"
   ]
  },
  {
   "cell_type": "code",
   "execution_count": 43,
   "id": "107f3414-f4dc-4d7a-9c11-42b60876d952",
   "metadata": {},
   "outputs": [
    {
     "name": "stdout",
     "output_type": "stream",
     "text": [
      "\u001b[1m1/1\u001b[0m \u001b[32m━━━━━━━━━━━━━━━━━━━━\u001b[0m\u001b[37m\u001b[0m \u001b[1m0s\u001b[0m 161ms/step\n"
     ]
    }
   ],
   "source": [
    "y_pred = model.predict(X_test)\n",
    "y_pred_classes = y_pred.argmax(axis=-1)"
   ]
  },
  {
   "cell_type": "code",
   "execution_count": 44,
   "id": "f931f997-6c3d-401f-9ef9-3d9e2988c057",
   "metadata": {},
   "outputs": [],
   "source": [
    "precision = precision_score(y_test, y_pred_classes, average='weighted', zero_division=0)"
   ]
  },
  {
   "cell_type": "code",
   "execution_count": 45,
   "id": "223f87fc-e137-4770-af03-438ff74908f4",
   "metadata": {},
   "outputs": [],
   "source": [
    "accuracy = accuracy_score(y_test, y_pred_classes)\n",
    "precision = precision_score(y_test, y_pred_classes, average='weighted', zero_division=0)\n",
    "recall = recall_score(y_test, y_pred_classes, average='weighted', zero_division=0)"
   ]
  },
  {
   "cell_type": "code",
   "execution_count": 46,
   "id": "ab372e5d-5db2-410d-bb8d-da45a9890537",
   "metadata": {},
   "outputs": [
    {
     "name": "stdout",
     "output_type": "stream",
     "text": [
      "Accuracy: 0.50\n",
      "Precision: 0.25\n",
      "Recall: 0.50\n"
     ]
    }
   ],
   "source": [
    "print(f'Accuracy: {accuracy:.2f}')\n",
    "print(f'Precision: {precision:.2f}')\n",
    "print(f'Recall: {recall:.2f}')"
   ]
  },
  {
   "cell_type": "code",
   "execution_count": 47,
   "id": "9eec58c9-30f0-45cf-9c24-5897521a8311",
   "metadata": {},
   "outputs": [],
   "source": [
    "\n",
    "model = tf.keras.Sequential([\n",
    "    tf.keras.layers.Input(shape=(1,)), \n",
    "    tf.keras.layers.Dense(256, activation='relu'),\n",
    "    tf.keras.layers.Dropout(0.5),  \n",
    "    tf.keras.layers.Dense(128, activation='relu'),  \n",
    "    tf.keras.layers.Dropout(0.5), \n",
    "    tf.keras.layers.Dense(64, activation='relu'), \n",
    "    tf.keras.layers.Dropout(0.5), \n",
    "    tf.keras.layers.Dense(len(df['internalStatus'].unique()), activation='softmax')\n",
    "])\n",
    "\n",
    "model.compile(optimizer='adam',\n",
    "              loss='sparse_categorical_crossentropy',\n",
    "              metrics=['accuracy'])\n"
   ]
  },
  {
   "cell_type": "code",
   "execution_count": 51,
   "id": "26a3d396-6b0a-4efd-9965-c15a024461f0",
   "metadata": {},
   "outputs": [],
   "source": [
    "model.save(\"model.keras\")"
   ]
  },
  {
   "cell_type": "code",
   "execution_count": 52,
   "id": "7954b956-056b-46bf-a751-df595a6cda99",
   "metadata": {},
   "outputs": [
    {
     "name": "stdout",
     "output_type": "stream",
     "text": [
      "Error: Internal Server Error\n"
     ]
    }
   ],
   "source": [
    "import requests\n",
    "\n",
    "# Define the external status data\n",
    "your_external_data = {\n",
    "    \"external_status\": \"Your external status data here\"\n",
    "}\n",
    "\n",
    "# Send a POST request to the FastAPI server\n",
    "response = requests.post(\"http://127.0.0.1:8000/predict/\", json=your_external_data)\n",
    "\n",
    "# Check if the request was successful\n",
    "if response.status_code == 200:\n",
    "    # Print the predicted internal status\n",
    "    print(\"Predicted internal status:\", response.json())\n",
    "else:\n",
    "    print(\"Error:\", response.text)\n"
   ]
  },
  {
   "cell_type": "code",
   "execution_count": 58,
   "id": "5007aa1e-d3e7-47f8-90db-2e173a54f137",
   "metadata": {},
   "outputs": [
    {
     "name": "stdout",
     "output_type": "stream",
     "text": [
      "Epoch 1/10\n",
      "\u001b[1m3/3\u001b[0m \u001b[32m━━━━━━━━━━━━━━━━━━━━\u001b[0m\u001b[37m\u001b[0m \u001b[1m0s\u001b[0m 94ms/step - accuracy: 0.3715 - loss: 2.3022 - val_accuracy: 0.5000 - val_loss: 2.2118\n",
      "Epoch 2/10\n",
      "\u001b[1m3/3\u001b[0m \u001b[32m━━━━━━━━━━━━━━━━━━━━\u001b[0m\u001b[37m\u001b[0m \u001b[1m0s\u001b[0m 45ms/step - accuracy: 0.3677 - loss: 2.2575 - val_accuracy: 0.5000 - val_loss: 2.2051\n",
      "Epoch 3/10\n",
      "\u001b[1m3/3\u001b[0m \u001b[32m━━━━━━━━━━━━━━━━━━━━\u001b[0m\u001b[37m\u001b[0m \u001b[1m0s\u001b[0m 52ms/step - accuracy: 0.4165 - loss: 2.2232 - val_accuracy: 0.5000 - val_loss: 2.2093\n",
      "Epoch 4/10\n",
      "\u001b[1m3/3\u001b[0m \u001b[32m━━━━━━━━━━━━━━━━━━━━\u001b[0m\u001b[37m\u001b[0m \u001b[1m0s\u001b[0m 45ms/step - accuracy: 0.3755 - loss: 2.1238 - val_accuracy: 0.5000 - val_loss: 2.2170\n",
      "Epoch 5/10\n",
      "\u001b[1m3/3\u001b[0m \u001b[32m━━━━━━━━━━━━━━━━━━━━\u001b[0m\u001b[37m\u001b[0m \u001b[1m0s\u001b[0m 41ms/step - accuracy: 0.4184 - loss: 2.1204 - val_accuracy: 0.5000 - val_loss: 2.2273\n",
      "Epoch 6/10\n",
      "\u001b[1m3/3\u001b[0m \u001b[32m━━━━━━━━━━━━━━━━━━━━\u001b[0m\u001b[37m\u001b[0m \u001b[1m0s\u001b[0m 40ms/step - accuracy: 0.3639 - loss: 2.1837 - val_accuracy: 0.5000 - val_loss: 2.2426\n",
      "Epoch 7/10\n",
      "\u001b[1m3/3\u001b[0m \u001b[32m━━━━━━━━━━━━━━━━━━━━\u001b[0m\u001b[37m\u001b[0m \u001b[1m0s\u001b[0m 40ms/step - accuracy: 0.3327 - loss: 2.2740 - val_accuracy: 0.5000 - val_loss: 2.2500\n",
      "Epoch 8/10\n",
      "\u001b[1m3/3\u001b[0m \u001b[32m━━━━━━━━━━━━━━━━━━━━\u001b[0m\u001b[37m\u001b[0m \u001b[1m0s\u001b[0m 43ms/step - accuracy: 0.3755 - loss: 2.1816 - val_accuracy: 0.5000 - val_loss: 2.2255\n",
      "Epoch 9/10\n",
      "\u001b[1m3/3\u001b[0m \u001b[32m━━━━━━━━━━━━━━━━━━━━\u001b[0m\u001b[37m\u001b[0m \u001b[1m0s\u001b[0m 45ms/step - accuracy: 0.3423 - loss: 2.2777 - val_accuracy: 0.5000 - val_loss: 2.1934\n",
      "Epoch 10/10\n",
      "\u001b[1m3/3\u001b[0m \u001b[32m━━━━━━━━━━━━━━━━━━━━\u001b[0m\u001b[37m\u001b[0m \u001b[1m0s\u001b[0m 44ms/step - accuracy: 0.4339 - loss: 2.0488 - val_accuracy: 0.5000 - val_loss: 2.1623\n",
      "\u001b[1m1/1\u001b[0m \u001b[32m━━━━━━━━━━━━━━━━━━━━\u001b[0m\u001b[37m\u001b[0m \u001b[1m1s\u001b[0m 590ms/step - accuracy: 0.0909 - loss: 6.4959\n",
      "Test Loss: 6.495892524719238\n",
      "Test Accuracy: 0.09090909361839294\n"
     ]
    }
   ],
   "source": [
    "import tensorflow as tf\n",
    "from sklearn.model_selection import train_test_split\n",
    "\n",
    "# Assuming you have already prepared your data and defined df\n",
    "\n",
    "# Define your model architecture\n",
    "model2 = tf.keras.Sequential([\n",
    "    tf.keras.layers.Input(shape=(1,)),\n",
    "    tf.keras.layers.Dense(128, activation='relu'),\n",
    "    tf.keras.layers.Dropout(0.2),  \n",
    "    tf.keras.layers.Dense(64, activation='relu'),\n",
    "    tf.keras.layers.Dropout(0.2), \n",
    "    tf.keras.layers.Dense(32, activation='relu'),\n",
    "    tf.keras.layers.Dropout(0.2),\n",
    "    tf.keras.layers.Dense(len(df['internalStatus'].unique()), activation='softmax')\n",
    "])\n",
    "\n",
    "# Compile the model\n",
    "model2.compile(optimizer='adam',\n",
    "              loss='sparse_categorical_crossentropy',\n",
    "              metrics=['accuracy'])\n",
    "\n",
    "# Prepare data for training\n",
    "X = df['ext_encoded'].values.reshape(-1, 1)\n",
    "y = df['int_encoded'].values\n",
    "\n",
    "# Split data into training and testing sets\n",
    "X_train, X_test, y_train, y_test = train_test_split(X, y, test_size=0.2, random_state=42)\n",
    "\n",
    "# Train the model\n",
    "model.fit(X_train, y_train, epochs=10, batch_size=32, validation_data=(X_test, y_test))\n",
    "\n",
    "# Evaluate the model\n",
    "loss, accuracy = model2.evaluate(X_test, y_test)\n",
    "print(\"Test Loss:\", loss)\n",
    "print(\"Test Accuracy:\", accuracy)\n",
    "\n",
    "# Save the model for later use\n",
    "model2.save(\"your_model2.keras\")\n"
   ]
  },
  {
   "cell_type": "code",
   "execution_count": 68,
   "id": "93dac465-9424-4e57-94d9-8cf681f1f96a",
   "metadata": {},
   "outputs": [
    {
     "name": "stdout",
     "output_type": "stream",
     "text": [
      "Error: Internal Server Error\n"
     ]
    }
   ],
   "source": [
    "import requests\n",
    "\n",
    "# Define the URL of the endpoint\n",
    "url = \"http://127.0.0.1:8000/predict/\"\n",
    "\n",
    "# Define the external status data\n",
    "external_status_data = {\n",
    "    \"external_status\": \"port out\"\n",
    "}\n",
    "\n",
    "# Send the POST request\n",
    "response = requests.post(url, json=external_status_data)\n",
    "\n",
    "# Check if the request was successful\n",
    "if response.status_code == 200:\n",
    "    # Print the response data\n",
    "    print(response.json())\n",
    "else:\n",
    "    # Print an error message\n",
    "    print(\"Error:\", response.text)\n"
   ]
  },
  {
   "cell_type": "code",
   "execution_count": null,
   "id": "97a960ef-d9b8-419e-b0d2-c603e56463bb",
   "metadata": {},
   "outputs": [],
   "source": []
  }
 ],
 "metadata": {
  "kernelspec": {
   "display_name": "Python 3 (ipykernel)",
   "language": "python",
   "name": "python3"
  },
  "language_info": {
   "codemirror_mode": {
    "name": "ipython",
    "version": 3
   },
   "file_extension": ".py",
   "mimetype": "text/x-python",
   "name": "python",
   "nbconvert_exporter": "python",
   "pygments_lexer": "ipython3",
   "version": "3.12.2"
  }
 },
 "nbformat": 4,
 "nbformat_minor": 5
}
